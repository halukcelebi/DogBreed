{
 "cells": [
  {
   "cell_type": "raw",
   "id": "b58f273d",
   "metadata": {},
   "source": [
    "project website: https://www.kaggle.com/competitions/dog-breed-identification/data"
   ]
  },
  {
   "cell_type": "code",
   "execution_count": 1,
   "id": "bf6c0662",
   "metadata": {},
   "outputs": [],
   "source": [
    "import pandas as pd\n",
    "import numpy as np\n",
    "from sklearn.metrics import roc_curve\n",
    "import matplotlib.pyplot as plt\n",
    "from PIL import Image\n",
    "import numpy as np\n",
    "import os\n",
    "import cv2\n",
    "import keras\n",
    "#from tensorflow.keras.utils import np_utils\n",
    "\n",
    "from keras.models import Sequential\n",
    "from keras.layers import Conv2D,MaxPooling2D,Dense,Flatten,Dropout\n",
    "            \n",
    "from random import shuffle\n",
    "from tqdm import tqdm  \n",
    "import scipy\n",
    "import skimage\n",
    "from skimage.transform import resize\n",
    "import random\n",
    "\n",
    "\n",
    "import numpy as np\n",
    "import pandas as pd\n",
    "import os\n",
    "import cv2\n",
    "import matplotlib.pyplot as plt\n",
    "import tensorflow as tf\n",
    "from tensorflow import keras\n",
    "from PIL import Image\n",
    "from sklearn.model_selection import train_test_split\n",
    "from tensorflow.keras.preprocessing.image import ImageDataGenerator\n",
    "from tensorflow.keras.optimizers import Adam\n",
    "from sklearn.metrics import accuracy_score\n",
    "np.random.seed(42)\n",
    "\n",
    "from matplotlib import style\n",
    "style.use('fivethirtyeight')\n",
    "from tensorflow.keras import models, layers"
   ]
  },
  {
   "cell_type": "code",
   "execution_count": 2,
   "id": "b388e8c0",
   "metadata": {},
   "outputs": [],
   "source": [
    "df = pd.read_csv('labels.csv')"
   ]
  },
  {
   "cell_type": "code",
   "execution_count": 3,
   "id": "a3859a78",
   "metadata": {},
   "outputs": [
    {
     "data": {
      "text/html": [
       "<div>\n",
       "<style scoped>\n",
       "    .dataframe tbody tr th:only-of-type {\n",
       "        vertical-align: middle;\n",
       "    }\n",
       "\n",
       "    .dataframe tbody tr th {\n",
       "        vertical-align: top;\n",
       "    }\n",
       "\n",
       "    .dataframe thead th {\n",
       "        text-align: right;\n",
       "    }\n",
       "</style>\n",
       "<table border=\"1\" class=\"dataframe\">\n",
       "  <thead>\n",
       "    <tr style=\"text-align: right;\">\n",
       "      <th></th>\n",
       "      <th>id</th>\n",
       "      <th>breed</th>\n",
       "    </tr>\n",
       "  </thead>\n",
       "  <tbody>\n",
       "    <tr>\n",
       "      <th>0</th>\n",
       "      <td>000bec180eb18c7604dcecc8fe0dba07</td>\n",
       "      <td>boston_bull</td>\n",
       "    </tr>\n",
       "    <tr>\n",
       "      <th>1</th>\n",
       "      <td>001513dfcb2ffafc82cccf4d8bbaba97</td>\n",
       "      <td>dingo</td>\n",
       "    </tr>\n",
       "    <tr>\n",
       "      <th>2</th>\n",
       "      <td>001cdf01b096e06d78e9e5112d419397</td>\n",
       "      <td>pekinese</td>\n",
       "    </tr>\n",
       "    <tr>\n",
       "      <th>3</th>\n",
       "      <td>00214f311d5d2247d5dfe4fe24b2303d</td>\n",
       "      <td>bluetick</td>\n",
       "    </tr>\n",
       "    <tr>\n",
       "      <th>4</th>\n",
       "      <td>0021f9ceb3235effd7fcde7f7538ed62</td>\n",
       "      <td>golden_retriever</td>\n",
       "    </tr>\n",
       "    <tr>\n",
       "      <th>...</th>\n",
       "      <td>...</td>\n",
       "      <td>...</td>\n",
       "    </tr>\n",
       "    <tr>\n",
       "      <th>10217</th>\n",
       "      <td>ffd25009d635cfd16e793503ac5edef0</td>\n",
       "      <td>borzoi</td>\n",
       "    </tr>\n",
       "    <tr>\n",
       "      <th>10218</th>\n",
       "      <td>ffd3f636f7f379c51ba3648a9ff8254f</td>\n",
       "      <td>dandie_dinmont</td>\n",
       "    </tr>\n",
       "    <tr>\n",
       "      <th>10219</th>\n",
       "      <td>ffe2ca6c940cddfee68fa3cc6c63213f</td>\n",
       "      <td>airedale</td>\n",
       "    </tr>\n",
       "    <tr>\n",
       "      <th>10220</th>\n",
       "      <td>ffe5f6d8e2bff356e9482a80a6e29aac</td>\n",
       "      <td>miniature_pinscher</td>\n",
       "    </tr>\n",
       "    <tr>\n",
       "      <th>10221</th>\n",
       "      <td>fff43b07992508bc822f33d8ffd902ae</td>\n",
       "      <td>chesapeake_bay_retriever</td>\n",
       "    </tr>\n",
       "  </tbody>\n",
       "</table>\n",
       "<p>10222 rows × 2 columns</p>\n",
       "</div>"
      ],
      "text/plain": [
       "                                     id                     breed\n",
       "0      000bec180eb18c7604dcecc8fe0dba07               boston_bull\n",
       "1      001513dfcb2ffafc82cccf4d8bbaba97                     dingo\n",
       "2      001cdf01b096e06d78e9e5112d419397                  pekinese\n",
       "3      00214f311d5d2247d5dfe4fe24b2303d                  bluetick\n",
       "4      0021f9ceb3235effd7fcde7f7538ed62          golden_retriever\n",
       "...                                 ...                       ...\n",
       "10217  ffd25009d635cfd16e793503ac5edef0                    borzoi\n",
       "10218  ffd3f636f7f379c51ba3648a9ff8254f            dandie_dinmont\n",
       "10219  ffe2ca6c940cddfee68fa3cc6c63213f                  airedale\n",
       "10220  ffe5f6d8e2bff356e9482a80a6e29aac        miniature_pinscher\n",
       "10221  fff43b07992508bc822f33d8ffd902ae  chesapeake_bay_retriever\n",
       "\n",
       "[10222 rows x 2 columns]"
      ]
     },
     "execution_count": 3,
     "metadata": {},
     "output_type": "execute_result"
    }
   ],
   "source": [
    "df"
   ]
  },
  {
   "cell_type": "code",
   "execution_count": 4,
   "id": "91e440f4",
   "metadata": {},
   "outputs": [],
   "source": [
    "# Use factorize to convert categorical values to numerical labels\n",
    "df['breed'] = pd.factorize(df['breed'])[0]"
   ]
  },
  {
   "cell_type": "code",
   "execution_count": 5,
   "id": "48c14325",
   "metadata": {},
   "outputs": [
    {
     "data": {
      "text/plain": [
       "120"
      ]
     },
     "execution_count": 5,
     "metadata": {},
     "output_type": "execute_result"
    }
   ],
   "source": [
    "len(df['breed'].unique())"
   ]
  },
  {
   "cell_type": "code",
   "execution_count": 6,
   "id": "c11ae092",
   "metadata": {},
   "outputs": [],
   "source": [
    "import cv2\n",
    "\n",
    "images_array = []\n",
    "label = []\n",
    "\n",
    "#for path in df_train['Path']:\n",
    "for i in range(len(df)):\n",
    "    path = df['id'].loc[i]   \n",
    "    #print(path)\n",
    "    image = cv2.imread(\"./train/\"+path+'.jpg')\n",
    "    #print(image)\n",
    "    img_array = Image.fromarray(image,'RGB')\n",
    "    resize_img = img_array.resize((224,224))\n",
    "    images_array.append(np.array(resize_img))\n",
    "    label.append(df['breed'].loc[i])"
   ]
  },
  {
   "cell_type": "code",
   "execution_count": 7,
   "id": "1c9a3c42",
   "metadata": {},
   "outputs": [],
   "source": [
    "X = np.array(images_array)\n",
    "label = np.array(label)"
   ]
  },
  {
   "cell_type": "code",
   "execution_count": 8,
   "id": "cc7f5d3c",
   "metadata": {},
   "outputs": [
    {
     "data": {
      "text/plain": [
       "((10222, 224, 224, 3), (10222,))"
      ]
     },
     "execution_count": 8,
     "metadata": {},
     "output_type": "execute_result"
    }
   ],
   "source": [
    "X.shape, label.shape"
   ]
  },
  {
   "cell_type": "code",
   "execution_count": 9,
   "id": "cf6dcf3a",
   "metadata": {},
   "outputs": [],
   "source": [
    "#normalization \n",
    "X = X/255;\n",
    "Y = label;"
   ]
  },
  {
   "cell_type": "code",
   "execution_count": 10,
   "id": "c71aac07",
   "metadata": {},
   "outputs": [],
   "source": [
    "num_classes=len(np.unique(Y))\n",
    "len_data=len(X)"
   ]
  },
  {
   "cell_type": "code",
   "execution_count": 11,
   "id": "314e0646",
   "metadata": {},
   "outputs": [],
   "source": [
    "(x_train,x_test)=X[(int)(0.1*len_data):],X[:(int)(0.1*len_data)]"
   ]
  },
  {
   "cell_type": "code",
   "execution_count": 12,
   "id": "e2455e7a",
   "metadata": {},
   "outputs": [],
   "source": [
    "(y_train,y_test)=Y[(int)(0.1*len_data):],Y[:(int)(0.1*len_data)]"
   ]
  },
  {
   "cell_type": "code",
   "execution_count": 13,
   "id": "c5988fba",
   "metadata": {},
   "outputs": [],
   "source": [
    "y_train=keras.utils.to_categorical(y_train,num_classes)\n",
    "y_test=keras.utils.to_categorical(y_test,num_classes)"
   ]
  },
  {
   "cell_type": "code",
   "execution_count": 14,
   "id": "0684b5bc",
   "metadata": {},
   "outputs": [
    {
     "name": "stdout",
     "output_type": "stream",
     "text": [
      "Model: \"sequential\"\n",
      "_________________________________________________________________\n",
      " Layer (type)                Output Shape              Param #   \n",
      "=================================================================\n",
      " conv2d (Conv2D)             (None, 222, 222, 32)      896       \n",
      "                                                                 \n",
      " max_pooling2d (MaxPooling2  (None, 111, 111, 32)      0         \n",
      " D)                                                              \n",
      "                                                                 \n",
      " conv2d_1 (Conv2D)           (None, 109, 109, 64)      18496     \n",
      "                                                                 \n",
      " max_pooling2d_1 (MaxPoolin  (None, 54, 54, 64)        0         \n",
      " g2D)                                                            \n",
      "                                                                 \n",
      " conv2d_2 (Conv2D)           (None, 52, 52, 128)       73856     \n",
      "                                                                 \n",
      " max_pooling2d_2 (MaxPoolin  (None, 26, 26, 128)       0         \n",
      " g2D)                                                            \n",
      "                                                                 \n",
      " flatten (Flatten)           (None, 86528)             0         \n",
      "                                                                 \n",
      " dense (Dense)               (None, 512)               44302848  \n",
      "                                                                 \n",
      " dropout (Dropout)           (None, 512)               0         \n",
      "                                                                 \n",
      " dense_1 (Dense)             (None, 120)               61560     \n",
      "                                                                 \n",
      "=================================================================\n",
      "Total params: 44457656 (169.59 MB)\n",
      "Trainable params: 44457656 (169.59 MB)\n",
      "Non-trainable params: 0 (0.00 Byte)\n",
      "_________________________________________________________________\n"
     ]
    }
   ],
   "source": [
    "\n",
    "# Define the model\n",
    "model = models.Sequential()\n",
    "\n",
    "# Convolutional layers\n",
    "model.add(layers.Conv2D(32, (3, 3), activation='relu', input_shape=(224, 224, 3)))\n",
    "model.add(layers.MaxPooling2D((2, 2)))\n",
    "\n",
    "model.add(layers.Conv2D(64, (3, 3), activation='relu'))\n",
    "model.add(layers.MaxPooling2D((2, 2)))\n",
    "\n",
    "model.add(layers.Conv2D(128, (3, 3), activation='relu'))\n",
    "model.add(layers.MaxPooling2D((2, 2)))\n",
    "\n",
    "# Flatten the output for dense layers\n",
    "model.add(layers.Flatten())\n",
    "\n",
    "# Dense layers\n",
    "model.add(layers.Dense(512, activation='relu'))\n",
    "model.add(layers.Dropout(0.5))  # Optional dropout for regularization\n",
    "model.add(layers.Dense(120, activation='softmax'))  # Output layer with 120 classes\n",
    "\n",
    "# Compile the model\n",
    "model.compile(optimizer='adam', \n",
    "              loss='categorical_crossentropy', \n",
    "              metrics=['accuracy'])\n",
    "\n",
    "# Display the model summary\n",
    "model.summary()"
   ]
  },
  {
   "cell_type": "code",
   "execution_count": null,
   "id": "fd3a7648",
   "metadata": {},
   "outputs": [],
   "source": []
  },
  {
   "cell_type": "code",
   "execution_count": 15,
   "id": "7c2d4d6e",
   "metadata": {},
   "outputs": [
    {
     "name": "stdout",
     "output_type": "stream",
     "text": [
      "Epoch 1/50\n",
      "414/414 [==============================] - 239s 575ms/step - loss: 4.7918 - accuracy: 0.0092 - val_loss: 4.7862 - val_accuracy: 0.0087\n",
      "Epoch 2/50\n",
      "414/414 [==============================] - 242s 586ms/step - loss: 4.7837 - accuracy: 0.0105 - val_loss: 4.7861 - val_accuracy: 0.0043\n",
      "Epoch 3/50\n",
      "414/414 [==============================] - 244s 590ms/step - loss: 4.7798 - accuracy: 0.0105 - val_loss: 4.7871 - val_accuracy: 0.0130\n",
      "Epoch 4/50\n",
      "414/414 [==============================] - 247s 598ms/step - loss: 4.7802 - accuracy: 0.0128 - val_loss: 4.7858 - val_accuracy: 0.0141\n",
      "Epoch 5/50\n",
      "414/414 [==============================] - 256s 620ms/step - loss: 4.7039 - accuracy: 0.0220 - val_loss: 4.6711 - val_accuracy: 0.0261\n",
      "Epoch 6/50\n",
      "414/414 [==============================] - 248s 598ms/step - loss: 4.3975 - accuracy: 0.0624 - val_loss: 4.6479 - val_accuracy: 0.0272\n",
      "Epoch 7/50\n",
      "414/414 [==============================] - 239s 577ms/step - loss: 3.5345 - accuracy: 0.2105 - val_loss: 4.9319 - val_accuracy: 0.0272\n",
      "Epoch 8/50\n",
      "414/414 [==============================] - 234s 565ms/step - loss: 2.1344 - accuracy: 0.5064 - val_loss: 6.3136 - val_accuracy: 0.0337\n",
      "Epoch 9/50\n",
      "414/414 [==============================] - 238s 574ms/step - loss: 1.2382 - accuracy: 0.7153 - val_loss: 8.0454 - val_accuracy: 0.0315\n",
      "Epoch 10/50\n",
      "414/414 [==============================] - 236s 570ms/step - loss: 0.7776 - accuracy: 0.8249 - val_loss: 9.6191 - val_accuracy: 0.0283\n",
      "Epoch 11/50\n",
      "414/414 [==============================] - 236s 571ms/step - loss: 0.5888 - accuracy: 0.8748 - val_loss: 10.3685 - val_accuracy: 0.0293\n",
      "Epoch 12/50\n",
      "414/414 [==============================] - 250s 604ms/step - loss: 0.4623 - accuracy: 0.9047 - val_loss: 11.7547 - val_accuracy: 0.0228\n",
      "Epoch 13/50\n",
      "414/414 [==============================] - 252s 610ms/step - loss: 0.3680 - accuracy: 0.9246 - val_loss: 11.5041 - val_accuracy: 0.0261\n",
      "Epoch 14/50\n",
      "414/414 [==============================] - 256s 618ms/step - loss: 0.3255 - accuracy: 0.9365 - val_loss: 11.9564 - val_accuracy: 0.0326\n",
      "Epoch 15/50\n",
      "414/414 [==============================] - 257s 622ms/step - loss: 0.2841 - accuracy: 0.9436 - val_loss: 11.1066 - val_accuracy: 0.0370\n",
      "Epoch 16/50\n",
      "414/414 [==============================] - 258s 624ms/step - loss: 0.2468 - accuracy: 0.9530 - val_loss: 12.0849 - val_accuracy: 0.0283\n",
      "Epoch 17/50\n",
      "414/414 [==============================] - 252s 608ms/step - loss: 0.2322 - accuracy: 0.9585 - val_loss: 11.6508 - val_accuracy: 0.0283\n",
      "Epoch 18/50\n",
      "414/414 [==============================] - 250s 604ms/step - loss: 0.1979 - accuracy: 0.9614 - val_loss: 11.7021 - val_accuracy: 0.0337\n",
      "Epoch 19/50\n",
      "414/414 [==============================] - 250s 605ms/step - loss: 0.1559 - accuracy: 0.9704 - val_loss: 12.1337 - val_accuracy: 0.0272\n",
      "Epoch 20/50\n",
      "414/414 [==============================] - 252s 610ms/step - loss: 0.1568 - accuracy: 0.9693 - val_loss: 12.1882 - val_accuracy: 0.0326\n",
      "Epoch 21/50\n",
      "414/414 [==============================] - 250s 603ms/step - loss: 0.1470 - accuracy: 0.9734 - val_loss: 12.6987 - val_accuracy: 0.0337\n",
      "Epoch 22/50\n",
      "414/414 [==============================] - 250s 604ms/step - loss: 0.1422 - accuracy: 0.9728 - val_loss: 11.8362 - val_accuracy: 0.0337\n",
      "Epoch 23/50\n",
      "414/414 [==============================] - 250s 603ms/step - loss: 0.1205 - accuracy: 0.9775 - val_loss: 13.8767 - val_accuracy: 0.0272\n",
      "Epoch 24/50\n",
      "414/414 [==============================] - 250s 603ms/step - loss: 0.1334 - accuracy: 0.9762 - val_loss: 13.4444 - val_accuracy: 0.0304\n",
      "Epoch 25/50\n",
      "414/414 [==============================] - 250s 603ms/step - loss: 0.1054 - accuracy: 0.9792 - val_loss: 12.5570 - val_accuracy: 0.0272\n",
      "Epoch 26/50\n",
      "414/414 [==============================] - 249s 601ms/step - loss: 0.1068 - accuracy: 0.9815 - val_loss: 12.4718 - val_accuracy: 0.0348\n",
      "Epoch 27/50\n",
      "414/414 [==============================] - 248s 598ms/step - loss: 0.1018 - accuracy: 0.9825 - val_loss: 12.6988 - val_accuracy: 0.0326\n",
      "Epoch 28/50\n",
      "414/414 [==============================] - 251s 606ms/step - loss: 0.1070 - accuracy: 0.9825 - val_loss: 11.4018 - val_accuracy: 0.0304\n",
      "Epoch 29/50\n",
      "414/414 [==============================] - 248s 599ms/step - loss: 0.0811 - accuracy: 0.9841 - val_loss: 12.9527 - val_accuracy: 0.0304\n",
      "Epoch 30/50\n",
      "414/414 [==============================] - 249s 601ms/step - loss: 0.1000 - accuracy: 0.9827 - val_loss: 12.5573 - val_accuracy: 0.0304\n",
      "Epoch 31/50\n",
      "414/414 [==============================] - 251s 605ms/step - loss: 0.0999 - accuracy: 0.9813 - val_loss: 11.7381 - val_accuracy: 0.0315\n",
      "Epoch 32/50\n",
      "414/414 [==============================] - 250s 604ms/step - loss: 0.0753 - accuracy: 0.9850 - val_loss: 13.1709 - val_accuracy: 0.0272\n",
      "Epoch 33/50\n",
      "414/414 [==============================] - 249s 602ms/step - loss: 0.0855 - accuracy: 0.9839 - val_loss: 12.8124 - val_accuracy: 0.0272\n",
      "Epoch 34/50\n",
      "414/414 [==============================] - 249s 602ms/step - loss: 0.0770 - accuracy: 0.9845 - val_loss: 13.3587 - val_accuracy: 0.0359\n",
      "Epoch 35/50\n",
      "414/414 [==============================] - 250s 603ms/step - loss: 0.0741 - accuracy: 0.9856 - val_loss: 12.9268 - val_accuracy: 0.0239\n",
      "Epoch 36/50\n",
      "414/414 [==============================] - 249s 601ms/step - loss: 0.0681 - accuracy: 0.9883 - val_loss: 13.1846 - val_accuracy: 0.0348\n",
      "Epoch 37/50\n",
      "414/414 [==============================] - 248s 600ms/step - loss: 0.0589 - accuracy: 0.9877 - val_loss: 13.0063 - val_accuracy: 0.0272\n",
      "Epoch 38/50\n",
      "414/414 [==============================] - 249s 601ms/step - loss: 0.0742 - accuracy: 0.9864 - val_loss: 13.5871 - val_accuracy: 0.0315\n",
      "Epoch 39/50\n",
      "414/414 [==============================] - 250s 603ms/step - loss: 0.0625 - accuracy: 0.9878 - val_loss: 12.5383 - val_accuracy: 0.0283\n",
      "Epoch 40/50\n",
      "414/414 [==============================] - 250s 603ms/step - loss: 0.0555 - accuracy: 0.9883 - val_loss: 13.0162 - val_accuracy: 0.0283\n",
      "Epoch 41/50\n",
      "414/414 [==============================] - 251s 605ms/step - loss: 0.0488 - accuracy: 0.9901 - val_loss: 13.1866 - val_accuracy: 0.0239\n",
      "Epoch 42/50\n",
      "414/414 [==============================] - 250s 603ms/step - loss: 0.0682 - accuracy: 0.9890 - val_loss: 11.2086 - val_accuracy: 0.0261\n",
      "Epoch 43/50\n",
      "414/414 [==============================] - 250s 604ms/step - loss: 0.0735 - accuracy: 0.9871 - val_loss: 11.9886 - val_accuracy: 0.0272\n",
      "Epoch 44/50\n",
      "414/414 [==============================] - 249s 602ms/step - loss: 0.0447 - accuracy: 0.9900 - val_loss: 12.2062 - val_accuracy: 0.0359\n",
      "Epoch 45/50\n",
      "414/414 [==============================] - 249s 603ms/step - loss: 0.0598 - accuracy: 0.9908 - val_loss: 11.3868 - val_accuracy: 0.0250\n",
      "Epoch 46/50\n",
      "414/414 [==============================] - 249s 601ms/step - loss: 0.0535 - accuracy: 0.9901 - val_loss: 11.9122 - val_accuracy: 0.0250\n",
      "Epoch 47/50\n",
      "414/414 [==============================] - 248s 600ms/step - loss: 0.0464 - accuracy: 0.9924 - val_loss: 12.2601 - val_accuracy: 0.0337\n",
      "Epoch 48/50\n",
      "414/414 [==============================] - 250s 603ms/step - loss: 0.0449 - accuracy: 0.9919 - val_loss: 12.9404 - val_accuracy: 0.0293\n",
      "Epoch 49/50\n",
      "414/414 [==============================] - 251s 605ms/step - loss: 0.0409 - accuracy: 0.9931 - val_loss: 12.3362 - val_accuracy: 0.0402\n",
      "Epoch 50/50\n",
      "414/414 [==============================] - 251s 605ms/step - loss: 0.0460 - accuracy: 0.9919 - val_loss: 12.0474 - val_accuracy: 0.0217\n"
     ]
    }
   ],
   "source": [
    "history = model.fit(x_train, y_train, batch_size=20, epochs=50, validation_split=0.1)"
   ]
  },
  {
   "cell_type": "code",
   "execution_count": 23,
   "id": "4e85f709",
   "metadata": {},
   "outputs": [
    {
     "data": {
      "image/png": "[encoded data removed]",
      "text/plain": [
       "<Figure size 640x480 with 1 Axes>"
      ]
     },
     "metadata": {},
     "output_type": "display_data"
    }
   ],
   "source": [
    "# Plot the accuracy\n",
    "plt.plot(history.history['accuracy'], label='Training Accuracy')\n",
    "plt.xlabel('Epoch')\n",
    "plt.ylabel('Accuracy')\n",
    "plt.legend()\n",
    "plt.show()"
   ]
  },
  {
   "cell_type": "code",
   "execution_count": null,
   "id": "1c130e14",
   "metadata": {},
   "outputs": [],
   "source": []
  }
 ],
 "metadata": {
  "kernelspec": {
   "display_name": "Python 3 (ipykernel)",
   "language": "python",
   "name": "python3"
  },
  "language_info": {
   "codemirror_mode": {
    "name": "ipython",
    "version": 3
   },
   "file_extension": ".py",
   "mimetype": "text/x-python",
   "name": "python",
   "nbconvert_exporter": "python",
   "pygments_lexer": "ipython3",
   "version": "3.11.5"
  }
 },
 "nbformat": 4,
 "nbformat_minor": 5
}
